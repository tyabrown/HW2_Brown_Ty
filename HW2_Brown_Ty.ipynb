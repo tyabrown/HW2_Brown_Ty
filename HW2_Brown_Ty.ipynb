{
 "cells": [
  {
   "cell_type": "code",
   "execution_count": 35,
   "id": "22d85afe",
   "metadata": {},
   "outputs": [],
   "source": [
    "#Question 1"
   ]
  },
  {
   "cell_type": "code",
   "execution_count": 36,
   "id": "17eb45c0",
   "metadata": {},
   "outputs": [
    {
     "name": "stdout",
     "output_type": "stream",
     "text": [
      "0\n",
      "1\n",
      "2\n",
      "3\n",
      "4\n"
     ]
    }
   ],
   "source": [
    "n = 0\n",
    "while n < 10:\n",
    "    if n == 5:\n",
    "        break\n",
    "    print(n)\n",
    "    n += 1"
   ]
  },
  {
   "cell_type": "code",
   "execution_count": 37,
   "id": "edd96819",
   "metadata": {},
   "outputs": [],
   "source": [
    "#Question 2"
   ]
  },
  {
   "cell_type": "code",
   "execution_count": 38,
   "id": "2fb1a014",
   "metadata": {},
   "outputs": [
    {
     "name": "stdout",
     "output_type": "stream",
     "text": [
      "0\n",
      "1\n",
      "2\n",
      "3\n",
      "4\n",
      "5 is not less than 5\n"
     ]
    }
   ],
   "source": [
    "n = 0\n",
    "while 1:\n",
    "    if n < 5:\n",
    "        print (n)\n",
    "        n += 1\n",
    "    else:\n",
    "        print (str(n) + \" is not less than 5\")\n",
    "        break"
   ]
  },
  {
   "cell_type": "code",
   "execution_count": 39,
   "id": "47aa6177",
   "metadata": {},
   "outputs": [],
   "source": [
    "#Question 3"
   ]
  },
  {
   "cell_type": "code",
   "execution_count": 40,
   "id": "acb66b39",
   "metadata": {},
   "outputs": [
    {
     "name": "stdout",
     "output_type": "stream",
     "text": [
      "I like blueberry\n",
      "I like strawberry\n",
      "I like blackberry\n",
      "apple is really a fruit?\n"
     ]
    }
   ],
   "source": [
    "favoritefruits = [\"blueberry\",\"strawberry\",\"blackberry\",\"apple\",\"cherry\"]\n",
    "for n in favoritefruits:\n",
    "    if n != \"apple\":\n",
    "        print(\"I like \" + n)\n",
    "    else:\n",
    "        print(n + \" is really a fruit?\")\n",
    "        break"
   ]
  },
  {
   "cell_type": "code",
   "execution_count": 41,
   "id": "b0dcc6a4",
   "metadata": {},
   "outputs": [],
   "source": [
    "#Question 4"
   ]
  },
  {
   "cell_type": "code",
   "execution_count": 42,
   "id": "8ee2b984",
   "metadata": {},
   "outputs": [
    {
     "name": "stdout",
     "output_type": "stream",
     "text": [
      "465\n"
     ]
    }
   ],
   "source": [
    "n = 0\n",
    "sum = 0\n",
    "while n < 30:\n",
    "    n += 1\n",
    "    sum = sum + n\n",
    "print(sum)"
   ]
  },
  {
   "cell_type": "code",
   "execution_count": 43,
   "id": "54adb9b2",
   "metadata": {},
   "outputs": [],
   "source": [
    "#Question 5"
   ]
  },
  {
   "cell_type": "code",
   "execution_count": 44,
   "id": "4e38a99f",
   "metadata": {},
   "outputs": [
    {
     "name": "stdout",
     "output_type": "stream",
     "text": [
      "D\n"
     ]
    }
   ],
   "source": [
    "grade = 63\n",
    "if grade >= 90:\n",
    "    print(\"A\")\n",
    "elif grade >= 80:\n",
    "    print(\"B\")\n",
    "elif grade >= 70:\n",
    "    print(\"C\")\n",
    "elif grade >= 60:\n",
    "    print(\"D\")\n",
    "else:\n",
    "    print(\"F\")"
   ]
  },
  {
   "cell_type": "code",
   "execution_count": 45,
   "id": "4a1da4e2",
   "metadata": {},
   "outputs": [],
   "source": [
    "#Question 6"
   ]
  },
  {
   "cell_type": "code",
   "execution_count": 46,
   "id": "86f962e4",
   "metadata": {},
   "outputs": [],
   "source": [
    "marks = {'Andy':88, 'Amy':66, 'James': 90, 'Jules': 55, 'Arthur': 77}"
   ]
  },
  {
   "cell_type": "code",
   "execution_count": 47,
   "id": "d52d5e64",
   "metadata": {},
   "outputs": [],
   "source": [
    "#Question 6.1"
   ]
  },
  {
   "cell_type": "code",
   "execution_count": 48,
   "id": "59c4f54f",
   "metadata": {
    "scrolled": true
   },
   "outputs": [
    {
     "name": "stdout",
     "output_type": "stream",
     "text": [
      "Andy's grade is 88\n",
      "Amy's grade is 66\n",
      "James's grade is 90\n",
      "Jules's grade is 55\n",
      "Arthur's grade is 77\n"
     ]
    }
   ],
   "source": [
    "for a,b in marks.items():\n",
    "    print(str(a) + \"'s grade is \" + str(b))"
   ]
  },
  {
   "cell_type": "code",
   "execution_count": 49,
   "id": "68364339",
   "metadata": {},
   "outputs": [],
   "source": [
    "#Question 6.2"
   ]
  },
  {
   "cell_type": "code",
   "execution_count": 50,
   "id": "aee683c5",
   "metadata": {
    "scrolled": false
   },
   "outputs": [
    {
     "name": "stdout",
     "output_type": "stream",
     "text": [
      "Mean grade is 75.2\n",
      "Maximal grade is 90\n",
      "Minimal grade is 55\n"
     ]
    }
   ],
   "source": [
    "total = 0\n",
    "for a,b in marks.items():\n",
    "    total += b\n",
    "count = len(marks)\n",
    "\n",
    "mean = total/count\n",
    "print(\"Mean grade is \" + str(mean))\n",
    "\n",
    "maxgrade = max(marks.values())\n",
    "print(\"Maximal grade is \" + str(maxgrade))\n",
    "\n",
    "mingrade = min(marks.values())\n",
    "print(\"Minimal grade is \" + str(mingrade))"
   ]
  },
  {
   "cell_type": "code",
   "execution_count": 51,
   "id": "9bb61d72",
   "metadata": {},
   "outputs": [],
   "source": [
    "#Question 6.3"
   ]
  },
  {
   "cell_type": "code",
   "execution_count": 52,
   "id": "211bcd89",
   "metadata": {},
   "outputs": [
    {
     "name": "stdout",
     "output_type": "stream",
     "text": [
      "Andy\n",
      "Amy\n"
     ]
    }
   ],
   "source": [
    "for a,b in marks.items():\n",
    "    if \"J\" in a:\n",
    "        break\n",
    "    else:\n",
    "        print(a)"
   ]
  },
  {
   "cell_type": "code",
   "execution_count": 53,
   "id": "4c334d3f",
   "metadata": {},
   "outputs": [],
   "source": [
    "#Question 6.4"
   ]
  },
  {
   "cell_type": "code",
   "execution_count": 56,
   "id": "3fcb9431",
   "metadata": {},
   "outputs": [
    {
     "name": "stdout",
     "output_type": "stream",
     "text": [
      "Andy\n",
      "Amy\n",
      "Arthur\n"
     ]
    }
   ],
   "source": [
    "for a,b in marks.items():\n",
    "    if not \"J\" in a:\n",
    "        print(a)"
   ]
  }
 ],
 "metadata": {
  "kernelspec": {
   "display_name": "Python 3 (ipykernel)",
   "language": "python",
   "name": "python3"
  },
  "language_info": {
   "codemirror_mode": {
    "name": "ipython",
    "version": 3
   },
   "file_extension": ".py",
   "mimetype": "text/x-python",
   "name": "python",
   "nbconvert_exporter": "python",
   "pygments_lexer": "ipython3",
   "version": "3.9.7"
  }
 },
 "nbformat": 4,
 "nbformat_minor": 5
}
